{
 "cells": [
  {
   "cell_type": "markdown",
   "metadata": {},
   "source": [
    "# Code for the functional neuroimaging schizophrenia classification case study\n",
    "\n",
    "## Load necessary python and R packages"
   ]
  },
  {
   "cell_type": "code",
   "execution_count": 1,
   "metadata": {},
   "outputs": [],
   "source": [
    "import pandas as pd\n",
    "import numpy as np\n",
    "\n",
    "from sklearn import svm\n",
    "from sklearn.pipeline import Pipeline\n",
    "from sklearn.preprocessing import StandardScaler\n",
    "from sklearn.model_selection import RepeatedStratifiedKFold, cross_validate\n",
    "from sklearn.metrics import balanced_accuracy_score,make_scorer\n",
    "\n",
    "%load_ext rpy2.ipython"
   ]
  },
  {
   "cell_type": "code",
   "execution_count": 2,
   "metadata": {},
   "outputs": [
    {
     "name": "stdout",
     "output_type": "stream",
     "text": [
      "── Attaching core tidyverse packages ──────────────────────── tidyverse 2.0.0 ──\n",
      "✔ dplyr     1.1.4     ✔ readr     2.1.5\n",
      "✔ forcats   1.0.0     ✔ stringr   1.5.1\n",
      "✔ lubridate 1.9.3     ✔ tibble    3.2.1\n",
      "✔ purrr     1.0.2     ✔ tidyr     1.3.1\n",
      "── Conflicts ────────────────────────────────────────── tidyverse_conflicts() ──\n",
      "✖ dplyr::filter()    masks stats::filter()\n",
      "✖ dplyr::lag()       masks stats::lag()\n",
      "✖ lubridate::stamp() masks cowplot::stamp()\n",
      "ℹ Use the conflicted package (<http://conflicted.r-lib.org/>) to force all conflicts to become errors\n"
     ]
    },
    {
     "data": {
      "text/plain": [
       "This is version 0.2.1 of correctR. All functions now use two-tailed hypothesis tests by default instead of one-tailed.\n",
       "One-tailed tests can be manually specified through the new 'tailed' and 'greater' arguments.\n",
       "Please consult the help files and vignette for more information.\n",
       "Loading required package: ggplot2\n",
       "\n",
       "Attaching package: ‘ggpubr’\n",
       "\n",
       "The following object is masked from ‘package:cowplot’:\n",
       "\n",
       "    get_legend\n",
       "\n"
      ]
     },
     "metadata": {},
     "output_type": "display_data"
    }
   ],
   "source": [
    "%%R \n",
    "\n",
    "library(correctR)\n",
    "library(cowplot)\n",
    "library(ggpubr)\n",
    "library(tidyverse)\n",
    "\n",
    "# Set cowplot theme\n",
    "theme_set(theme_cowplot())"
   ]
  },
  {
   "cell_type": "markdown",
   "metadata": {},
   "source": [
    "## Load in the FTM and catch22 time-series feature for participants:"
   ]
  },
  {
   "cell_type": "code",
   "execution_count": 44,
   "metadata": {},
   "outputs": [],
   "source": [
    "# Load in metadata\n",
    "sample_metadata = pd.read_csv(\"../fMRI_analysis_data/fMRI_analysis_metadata.csv\")\n",
    "\n",
    "# Load in FTM+catch22 feature data\n",
    "SCZ_FTM_plus_catch22_features = pd.read_csv(\"../fMRI_analysis_data/fMRI_time_series_features.csv\").merge(sample_metadata)\n",
    "\n",
    "# Subset catch22 data down to FTM\n",
    "SCZ_FTM_features = SCZ_FTM_plus_catch22_features.query(\"names in ['DN_Mean', 'DN_Spread_Std']\").assign(feature_set = \"FTM\")"
   ]
  },
  {
   "cell_type": "markdown",
   "metadata": {},
   "source": [
    "## Define our classification pipeline and input datasets:"
   ]
  },
  {
   "cell_type": "code",
   "execution_count": 45,
   "metadata": {},
   "outputs": [],
   "source": [
    "pipe = Pipeline([('scaler', StandardScaler()), # Z-score normalisation\n",
    "                ('model', svm.SVC(kernel=\"linear\", C=1, class_weight=\"balanced\"))]) # Linear SVM with regularization parameter C=1 and balanced class weights\n",
    "\n",
    "# Define the 10-repeat 10-fold cross-validation scheme\n",
    "cv = RepeatedStratifiedKFold(n_splits=10, n_repeats=10, random_state=127)\n",
    "\n",
    "# Define the scoring metric as balanced accuracy\n",
    "scorers = [make_scorer(balanced_accuracy_score)]\n",
    "scoring_names = [\"Balanced_Accuracy\"]\n",
    "\n",
    "# Define input matrices for FTM and FTM+catch22\n",
    "X_FTM = (SCZ_FTM_features\n",
    "         .assign(Region_Feature = lambda x: x.names + \"__\" + x.Brain_Region)\n",
    "         .pivot(index=[\"Sample_ID\", \"Diagnosis\"], columns=\"Region_Feature\", values=\"values\"))\n",
    "X_index = X_FTM.index.to_frame().reset_index(drop=True)\n",
    "y = [int(i==\"SCZ\") for i in X_index.Diagnosis.tolist()]\n",
    "X_FTM = X_FTM.reset_index(drop=True).to_numpy()\n",
    "\n",
    "X_FTM_plus_catch22 = (SCZ_FTM_plus_catch22_features\n",
    "                        .assign(Region_Feature = lambda x: x.names + \"__\" + x.Brain_Region)\n",
    "                        .pivot(index=[\"Sample_ID\", \"Diagnosis\"], columns=\"Region_Feature\", values=\"values\"))\n",
    "X_FTM_plus_catch22 = X_FTM_plus_catch22.reset_index(drop=True).to_numpy()"
   ]
  },
  {
   "cell_type": "markdown",
   "metadata": {},
   "source": [
    "## Run the linear classifier for just the FTM first:"
   ]
  },
  {
   "cell_type": "code",
   "execution_count": 54,
   "metadata": {},
   "outputs": [
    {
     "data": {
      "text/html": [
       "<div>\n",
       "<style scoped>\n",
       "    .dataframe tbody tr th:only-of-type {\n",
       "        vertical-align: middle;\n",
       "    }\n",
       "\n",
       "    .dataframe tbody tr th {\n",
       "        vertical-align: top;\n",
       "    }\n",
       "\n",
       "    .dataframe thead th {\n",
       "        text-align: right;\n",
       "    }\n",
       "</style>\n",
       "<table border=\"1\" class=\"dataframe\">\n",
       "  <thead>\n",
       "    <tr style=\"text-align: right;\">\n",
       "      <th></th>\n",
       "      <th>Balanced_Accuracy</th>\n",
       "      <th>Fold_Number</th>\n",
       "      <th>Repeat_Number</th>\n",
       "      <th>feature_set</th>\n",
       "    </tr>\n",
       "  </thead>\n",
       "  <tbody>\n",
       "    <tr>\n",
       "      <th>0</th>\n",
       "      <td>0.816667</td>\n",
       "      <td>0</td>\n",
       "      <td>0</td>\n",
       "      <td>FTM</td>\n",
       "    </tr>\n",
       "    <tr>\n",
       "      <th>1</th>\n",
       "      <td>0.616667</td>\n",
       "      <td>1</td>\n",
       "      <td>0</td>\n",
       "      <td>FTM</td>\n",
       "    </tr>\n",
       "    <tr>\n",
       "      <th>2</th>\n",
       "      <td>0.675000</td>\n",
       "      <td>2</td>\n",
       "      <td>0</td>\n",
       "      <td>FTM</td>\n",
       "    </tr>\n",
       "    <tr>\n",
       "      <th>3</th>\n",
       "      <td>0.675000</td>\n",
       "      <td>3</td>\n",
       "      <td>0</td>\n",
       "      <td>FTM</td>\n",
       "    </tr>\n",
       "    <tr>\n",
       "      <th>4</th>\n",
       "      <td>0.791667</td>\n",
       "      <td>4</td>\n",
       "      <td>0</td>\n",
       "      <td>FTM</td>\n",
       "    </tr>\n",
       "  </tbody>\n",
       "</table>\n",
       "</div>"
      ],
      "text/plain": [
       "   Balanced_Accuracy  Fold_Number  Repeat_Number feature_set\n",
       "0           0.816667            0              0         FTM\n",
       "1           0.616667            1              0         FTM\n",
       "2           0.675000            2              0         FTM\n",
       "3           0.675000            3              0         FTM\n",
       "4           0.791667            4              0         FTM"
      ]
     },
     "execution_count": 54,
     "metadata": {},
     "output_type": "execute_result"
    }
   ],
   "source": [
    "FTM_classification_results = pd.DataFrame({\"Balanced_Accuracy\": cross_validate(pipe,\n",
    "                                            X_FTM,\n",
    "                                            y,\n",
    "                                            cv=cv,\n",
    "                                            scoring=\"balanced_accuracy\",\n",
    "                                            n_jobs=1)[\"test_score\"]})\n",
    "FTM_classification_results[\"Fold_Number\"] = FTM_classification_results.index % 10\n",
    "FTM_classification_results[\"Repeat_Number\"] = FTM_classification_results.index // 10\n",
    "FTM_classification_results[\"feature_set\"] = \"FTM\"\n",
    "FTM_classification_results.head()"
   ]
  },
  {
   "cell_type": "markdown",
   "metadata": {},
   "source": [
    "## Then run for the FTM plus catch22 feature set:"
   ]
  },
  {
   "cell_type": "code",
   "execution_count": 55,
   "metadata": {},
   "outputs": [
    {
     "data": {
      "text/html": [
       "<div>\n",
       "<style scoped>\n",
       "    .dataframe tbody tr th:only-of-type {\n",
       "        vertical-align: middle;\n",
       "    }\n",
       "\n",
       "    .dataframe tbody tr th {\n",
       "        vertical-align: top;\n",
       "    }\n",
       "\n",
       "    .dataframe thead th {\n",
       "        text-align: right;\n",
       "    }\n",
       "</style>\n",
       "<table border=\"1\" class=\"dataframe\">\n",
       "  <thead>\n",
       "    <tr style=\"text-align: right;\">\n",
       "      <th></th>\n",
       "      <th>Balanced_Accuracy</th>\n",
       "      <th>Fold_Number</th>\n",
       "      <th>Repeat_Number</th>\n",
       "      <th>feature_set</th>\n",
       "    </tr>\n",
       "  </thead>\n",
       "  <tbody>\n",
       "    <tr>\n",
       "      <th>0</th>\n",
       "      <td>0.600000</td>\n",
       "      <td>0</td>\n",
       "      <td>0</td>\n",
       "      <td>FTM+catch22</td>\n",
       "    </tr>\n",
       "    <tr>\n",
       "      <th>1</th>\n",
       "      <td>0.658333</td>\n",
       "      <td>1</td>\n",
       "      <td>0</td>\n",
       "      <td>FTM+catch22</td>\n",
       "    </tr>\n",
       "    <tr>\n",
       "      <th>2</th>\n",
       "      <td>0.658333</td>\n",
       "      <td>2</td>\n",
       "      <td>0</td>\n",
       "      <td>FTM+catch22</td>\n",
       "    </tr>\n",
       "    <tr>\n",
       "      <th>3</th>\n",
       "      <td>0.675000</td>\n",
       "      <td>3</td>\n",
       "      <td>0</td>\n",
       "      <td>FTM+catch22</td>\n",
       "    </tr>\n",
       "    <tr>\n",
       "      <th>4</th>\n",
       "      <td>0.666667</td>\n",
       "      <td>4</td>\n",
       "      <td>0</td>\n",
       "      <td>FTM+catch22</td>\n",
       "    </tr>\n",
       "  </tbody>\n",
       "</table>\n",
       "</div>"
      ],
      "text/plain": [
       "   Balanced_Accuracy  Fold_Number  Repeat_Number  feature_set\n",
       "0           0.600000            0              0  FTM+catch22\n",
       "1           0.658333            1              0  FTM+catch22\n",
       "2           0.658333            2              0  FTM+catch22\n",
       "3           0.675000            3              0  FTM+catch22\n",
       "4           0.666667            4              0  FTM+catch22"
      ]
     },
     "execution_count": 55,
     "metadata": {},
     "output_type": "execute_result"
    }
   ],
   "source": [
    "FTM_plus_catch22_classification_results = pd.DataFrame({\"Balanced_Accuracy\": cross_validate(pipe,\n",
    "                                            X_FTM_plus_catch22,\n",
    "                                            y,\n",
    "                                            cv=cv,\n",
    "                                            scoring=\"balanced_accuracy\",\n",
    "                                            n_jobs=1)[\"test_score\"]})\n",
    "\n",
    "# Assign fold and repeat numbers\n",
    "FTM_plus_catch22_classification_results[\"Fold_Number\"] = FTM_plus_catch22_classification_results.index % 10\n",
    "FTM_plus_catch22_classification_results[\"Repeat_Number\"] = FTM_plus_catch22_classification_results.index // 10\n",
    "FTM_plus_catch22_classification_results[\"feature_set\"] = \"FTM+catch22\"\n",
    "FTM_plus_catch22_classification_results.head()\n"
   ]
  },
  {
   "cell_type": "code",
   "execution_count": 56,
   "metadata": {},
   "outputs": [],
   "source": [
    "# Join the two datasets\n",
    "all_classification_results = pd.concat([FTM_classification_results, FTM_plus_catch22_classification_results])\n",
    "\n",
    "# Take average across repeats to match other time-series case study classification problems\n",
    "all_classification_results = (all_classification_results\n",
    "                              .groupby([\"feature_set\", \"Repeat_Number\"])\n",
    "                              .mean()\n",
    "                              .drop(columns=[\"Fold_Number\"])\n",
    "                              .reset_index())\n",
    "\n",
    "# Save to a CSV\n",
    "all_classification_results.to_csv(\"../fMRI_analysis_data/fMRI_classification_results.csv\", index=False)"
   ]
  },
  {
   "cell_type": "code",
   "execution_count": 57,
   "metadata": {},
   "outputs": [
    {
     "data": {
      "text/html": [
       "<div>\n",
       "<style scoped>\n",
       "    .dataframe tbody tr th:only-of-type {\n",
       "        vertical-align: middle;\n",
       "    }\n",
       "\n",
       "    .dataframe tbody tr th {\n",
       "        vertical-align: top;\n",
       "    }\n",
       "\n",
       "    .dataframe thead tr th {\n",
       "        text-align: left;\n",
       "    }\n",
       "\n",
       "    .dataframe thead tr:last-of-type th {\n",
       "        text-align: right;\n",
       "    }\n",
       "</style>\n",
       "<table border=\"1\" class=\"dataframe\">\n",
       "  <thead>\n",
       "    <tr>\n",
       "      <th></th>\n",
       "      <th colspan=\"2\" halign=\"left\">Balanced_Accuracy</th>\n",
       "    </tr>\n",
       "    <tr>\n",
       "      <th></th>\n",
       "      <th>mean</th>\n",
       "      <th>std</th>\n",
       "    </tr>\n",
       "    <tr>\n",
       "      <th>feature_set</th>\n",
       "      <th></th>\n",
       "      <th></th>\n",
       "    </tr>\n",
       "  </thead>\n",
       "  <tbody>\n",
       "    <tr>\n",
       "      <th>FTM</th>\n",
       "      <td>70.0</td>\n",
       "      <td>4.2</td>\n",
       "    </tr>\n",
       "    <tr>\n",
       "      <th>FTM+catch22</th>\n",
       "      <td>65.2</td>\n",
       "      <td>1.7</td>\n",
       "    </tr>\n",
       "  </tbody>\n",
       "</table>\n",
       "</div>"
      ],
      "text/plain": [
       "            Balanced_Accuracy     \n",
       "                         mean  std\n",
       "feature_set                       \n",
       "FTM                      70.0  4.2\n",
       "FTM+catch22              65.2  1.7"
      ]
     },
     "execution_count": 57,
     "metadata": {},
     "output_type": "execute_result"
    }
   ],
   "source": [
    "# Group by feature_set and find the mean and SD for Balanced_Accuracy\n",
    "\n",
    "all_classification_results.groupby(\"feature_set\").agg({\"Balanced_Accuracy\": [\"mean\", \"std\"]}).assign(Balanced_Accuracy = lambda x: x.Balanced_Accuracy.apply(lambda x: round(100*x, 1)))"
   ]
  },
  {
   "cell_type": "markdown",
   "metadata": {},
   "source": [
    "Now, we can compare the performance of FTM versus FTM+catch22 with a two-tailed corrected resampled T-test:"
   ]
  },
  {
   "cell_type": "code",
   "execution_count": 58,
   "metadata": {},
   "outputs": [
    {
     "name": "stdout",
     "output_type": "stream",
     "text": [
      "  statistic    p.value\n",
      "1  2.656313 0.02620366\n"
     ]
    }
   ],
   "source": [
    "%%R -i all_classification_results,SCZ_metadata -o data_for_correctR\n",
    "\n",
    "num_samples <- length(unique(SCZ_metadata$Sample_ID))\n",
    "training_size <- ceiling(0.9*num_samples)\n",
    "test_size <- floor(0.1*num_samples)\n",
    "\n",
    "data_for_correctR <- all_classification_results %>%\n",
    "  pivot_wider(id_cols = c(Repeat_Number), \n",
    "              names_from = feature_set,\n",
    "              values_from = Balanced_Accuracy) %>%\n",
    "  dplyr::rename(\"x\" = \"FTM\", \"y\" = \"FTM+catch22\")\n",
    "\n",
    "resampled_ttest(x=data_for_correctR$x, y=data_for_correctR$y, n=10, n1=training_size, n2=test_size)\n"
   ]
  },
  {
   "cell_type": "markdown",
   "metadata": {},
   "source": [
    "## Visualize the repeat-wise balanced accuracy distributions for the two feature sets:"
   ]
  },
  {
   "cell_type": "code",
   "execution_count": 13,
   "metadata": {},
   "outputs": [],
   "source": [
    "%%R -i all_classification_results,SCZ_metadata\n",
    "\n",
    "# Function to specify number of decimal points in axis text\n",
    "scaleFUN <- function(x) sprintf(\"%.0f\", x)\n",
    "\n",
    "all_classification_results %>%\n",
    "mutate(Balanced_Accuracy = 100*Balanced_Accuracy) %>%\n",
    "  ggplot(data=.) +\n",
    "  geom_boxplot(mapping=aes(x = feature_set, \n",
    "                           y = Balanced_Accuracy,\n",
    "                           color = feature_set),\n",
    "               fill=NA, outlier.shape=NA) +\n",
    "  geom_point(aes(x = feature_set, \n",
    "                 y = Balanced_Accuracy,\n",
    "                 color = feature_set), alpha=0.7, size=1.25) +\n",
    "  geom_line(aes(x = feature_set, \n",
    "                y = Balanced_Accuracy,\n",
    "                group = Repeat_Number), alpha=0.3) +\n",
    "  geom_bracket(xmin = \"FTM\", xmax = \"FTM+catch22\", y.position = 75.5, \n",
    "               label = \"**\", label.size = 9) +\n",
    "  scale_color_brewer(palette = \"Dark2\") +\n",
    "  \n",
    "  ylab(\"Resample Balanced Accuracy (%)\") +\n",
    "  scale_y_continuous(expand=c(0.05,0,0.1,0),\n",
    "                     labels = scaleFUN) +\n",
    "  xlab(\"Feature Set\") +\n",
    "  theme(legend.position = \"none\",\n",
    "        axis.text = element_text(size=14),\n",
    "        axis.title = element_text(size=16),\n",
    "        plot.title = element_text(hjust=0.5, size=13))\n",
    "\n",
    "ggsave(\"../output/Schizophrenia_BalAcc_Combo_Feature_Set.png\", width=4, height=4.25, units=\"in\", dpi=300)"
   ]
  }
 ],
 "metadata": {
  "kernelspec": {
   "display_name": "annie_env",
   "language": "python",
   "name": "python3"
  },
  "language_info": {
   "codemirror_mode": {
    "name": "ipython",
    "version": 3
   },
   "file_extension": ".py",
   "mimetype": "text/x-python",
   "name": "python",
   "nbconvert_exporter": "python",
   "pygments_lexer": "ipython3",
   "version": "3.9.7"
  }
 },
 "nbformat": 4,
 "nbformat_minor": 2
}
